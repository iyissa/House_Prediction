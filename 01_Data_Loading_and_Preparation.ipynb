{
  "nbformat": 4,
  "nbformat_minor": 0,
  "metadata": {
    "colab": {
      "name": "01_Data Loading and Preparation.ipynb",
      "provenance": []
    },
    "kernelspec": {
      "name": "python3",
      "display_name": "Python 3"
    },
    "language_info": {
      "name": "python"
    }
  },
  "cells": [
    {
      "cell_type": "code",
      "execution_count": 1,
      "metadata": {
        "colab": {
          "base_uri": "https://localhost:8080/"
        },
        "id": "VHopMnVJ-uFL",
        "outputId": "2d365fc6-9a07-45f7-e282-0f1229ee769e"
      },
      "outputs": [
        {
          "output_type": "stream",
          "name": "stdout",
          "text": [
            "Mounted at /content/gdrive\n"
          ]
        }
      ],
      "source": [
        "from google.colab import drive\n",
        "drive.mount('/content/gdrive')"
      ]
    },
    {
      "cell_type": "code",
      "source": [
        "import os\n",
        "os.environ['KAGGLE_CONFIG_DIR'] = \"/content/gdrive/My Drive/Kaggle\""
      ],
      "metadata": {
        "id": "mt1FmWUP-1DP"
      },
      "execution_count": 2,
      "outputs": []
    },
    {
      "cell_type": "code",
      "source": [
        "%cd /content/gdrive/My Drive/Kaggle"
      ],
      "metadata": {
        "colab": {
          "base_uri": "https://localhost:8080/"
        },
        "id": "Z5WVQS3J-_Gi",
        "outputId": "b2fb2417-3e65-4934-c63b-94e2949dc214"
      },
      "execution_count": 3,
      "outputs": [
        {
          "output_type": "stream",
          "name": "stdout",
          "text": [
            "/content/gdrive/My Drive/Kaggle\n"
          ]
        }
      ]
    },
    {
      "cell_type": "code",
      "source": [
        "!kaggle datasets download -d robinreni/house-rooms-image-dataset"
      ],
      "metadata": {
        "id": "Om8sJP4C_vqs"
      },
      "execution_count": null,
      "outputs": []
    },
    {
      "cell_type": "code",
      "source": [
        "!unzip \\house-rooms-image-dataset.zip  && rm house-rooms-image-dataset.zip"
      ],
      "metadata": {
        "id": "CNmA62wo_y-2"
      },
      "execution_count": 5,
      "outputs": []
    },
    {
      "cell_type": "markdown",
      "source": [
        "That should ensure that the data has been downloaded into your google drive. Next, we work on the downloaded data to make it fit for training and modelling"
      ],
      "metadata": {
        "id": "YB5pSLmWAKHw"
      }
    },
    {
      "cell_type": "code",
      "source": [
        "import os \n",
        "\n",
        "# Go through the folder and list the number of files found\n",
        "\n",
        "for dirpath, dirnames, filenames in os.walk(\"/content/gdrive/MyDrive/Kaggle/House_Room_Dataset\"):\n",
        "  print(f\"There are {len(dirnames)} directories and {len(filenames)} images in '{dirpath}\")"
      ],
      "metadata": {
        "colab": {
          "base_uri": "https://localhost:8080/"
        },
        "id": "1kAe5AbG_6qw",
        "outputId": "d93017b7-e9a4-4970-ac81-d276568d46e2"
      },
      "execution_count": 6,
      "outputs": [
        {
          "output_type": "stream",
          "name": "stdout",
          "text": [
            "There are 5 directories and 0 images in '/content/gdrive/MyDrive/Kaggle/House_Room_Dataset\n",
            "There are 0 directories and 606 images in '/content/gdrive/MyDrive/Kaggle/House_Room_Dataset/Bathroom\n",
            "There are 0 directories and 1248 images in '/content/gdrive/MyDrive/Kaggle/House_Room_Dataset/Bedroom\n",
            "There are 0 directories and 1158 images in '/content/gdrive/MyDrive/Kaggle/House_Room_Dataset/Dinning\n",
            "There are 0 directories and 965 images in '/content/gdrive/MyDrive/Kaggle/House_Room_Dataset/Kitchen\n",
            "There are 0 directories and 1273 images in '/content/gdrive/MyDrive/Kaggle/House_Room_Dataset/Livingroom\n"
          ]
        }
      ]
    },
    {
      "cell_type": "markdown",
      "source": [
        "A library called split-folders is used to divide the downloaded data into train, test and validation folders based on the user's disgression"
      ],
      "metadata": {
        "id": "uPbqWACmAdN2"
      }
    },
    {
      "cell_type": "code",
      "source": [
        "!pip install split-folders"
      ],
      "metadata": {
        "colab": {
          "base_uri": "https://localhost:8080/"
        },
        "id": "Z3seCiBUAXlA",
        "outputId": "df4263d0-a85e-472e-b5d4-1cfcd4011a95"
      },
      "execution_count": 7,
      "outputs": [
        {
          "output_type": "stream",
          "name": "stdout",
          "text": [
            "Collecting split-folders\n",
            "  Downloading split_folders-0.5.1-py3-none-any.whl (8.4 kB)\n",
            "Installing collected packages: split-folders\n",
            "Successfully installed split-folders-0.5.1\n"
          ]
        }
      ]
    },
    {
      "cell_type": "code",
      "source": [
        "import splitfolders\n",
        "splitfolders.ratio('House_Room_Dataset', output=\"split\", seed=1337, ratio=(.8, 0.1,0.1)) "
      ],
      "metadata": {
        "id": "lXG9X0PXArNH"
      },
      "execution_count": null,
      "outputs": []
    },
    {
      "cell_type": "code",
      "source": [
        "import os \n",
        "\n",
        "# Go through the folder and list the number of files found\n",
        "\n",
        "for dirpath, dirnames, filenames in os.walk(\"/content/gdrive/MyDrive/Kaggle/output\"):\n",
        "  print(f\"There are {len(dirnames)} directories and {len(filenames)} images in '{dirpath}\")"
      ],
      "metadata": {
        "colab": {
          "base_uri": "https://localhost:8080/"
        },
        "id": "JsSKIJDlAyZp",
        "outputId": "f85dd1cc-a8b6-4a77-ec31-accb684384b5"
      },
      "execution_count": 10,
      "outputs": [
        {
          "output_type": "stream",
          "name": "stdout",
          "text": [
            "There are 3 directories and 0 images in '/content/gdrive/MyDrive/Kaggle/output\n",
            "There are 5 directories and 0 images in '/content/gdrive/MyDrive/Kaggle/output/train\n",
            "There are 0 directories and 484 images in '/content/gdrive/MyDrive/Kaggle/output/train/Bathroom\n",
            "There are 0 directories and 998 images in '/content/gdrive/MyDrive/Kaggle/output/train/Bedroom\n",
            "There are 0 directories and 926 images in '/content/gdrive/MyDrive/Kaggle/output/train/Dinning\n",
            "There are 0 directories and 772 images in '/content/gdrive/MyDrive/Kaggle/output/train/Kitchen\n",
            "There are 0 directories and 1018 images in '/content/gdrive/MyDrive/Kaggle/output/train/Livingroom\n",
            "There are 5 directories and 0 images in '/content/gdrive/MyDrive/Kaggle/output/val\n",
            "There are 0 directories and 60 images in '/content/gdrive/MyDrive/Kaggle/output/val/Bathroom\n",
            "There are 0 directories and 124 images in '/content/gdrive/MyDrive/Kaggle/output/val/Bedroom\n",
            "There are 0 directories and 115 images in '/content/gdrive/MyDrive/Kaggle/output/val/Dinning\n",
            "There are 0 directories and 96 images in '/content/gdrive/MyDrive/Kaggle/output/val/Kitchen\n",
            "There are 0 directories and 127 images in '/content/gdrive/MyDrive/Kaggle/output/val/Livingroom\n",
            "There are 5 directories and 0 images in '/content/gdrive/MyDrive/Kaggle/output/test\n",
            "There are 0 directories and 62 images in '/content/gdrive/MyDrive/Kaggle/output/test/Bathroom\n",
            "There are 0 directories and 126 images in '/content/gdrive/MyDrive/Kaggle/output/test/Bedroom\n",
            "There are 0 directories and 117 images in '/content/gdrive/MyDrive/Kaggle/output/test/Dinning\n",
            "There are 0 directories and 97 images in '/content/gdrive/MyDrive/Kaggle/output/test/Kitchen\n",
            "There are 0 directories and 128 images in '/content/gdrive/MyDrive/Kaggle/output/test/Livingroom\n"
          ]
        }
      ]
    },
    {
      "cell_type": "code",
      "source": [
        ""
      ],
      "metadata": {
        "id": "9CVkRnBxDL_L"
      },
      "execution_count": null,
      "outputs": []
    }
  ]
}